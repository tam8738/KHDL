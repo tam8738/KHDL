{
  "nbformat": 4,
  "nbformat_minor": 0,
  "metadata": {
    "colab": {
      "provenance": [],
      "mount_file_id": "18SBgZhlGeGij3KfoUjLbWgnl02va5qra",
      "authorship_tag": "ABX9TyNUFUjplNSelmc1CaFQksE6",
      "include_colab_link": true
    },
    "kernelspec": {
      "name": "python3",
      "display_name": "Python 3"
    },
    "language_info": {
      "name": "python"
    }
  },
  "cells": [
    {
      "cell_type": "markdown",
      "metadata": {
        "id": "view-in-github",
        "colab_type": "text"
      },
      "source": [
        "<a href=\"https://colab.research.google.com/github/tam8738/KHDL/blob/main/cleanData.ipynb\" target=\"_parent\"><img src=\"https://colab.research.google.com/assets/colab-badge.svg\" alt=\"Open In Colab\"/></a>"
      ]
    },
    {
      "cell_type": "code",
      "source": [
        "import pandas as pd\n",
        "data = pd.read_csv('/content/drive/MyDrive/KHDL/data/enron_spam_data.csv')  # Thay đường dẫn tương ứng\n",
        "print(data.head())  # Hiển thị 5 dòng đầu tiên của dữ liệu"
      ],
      "metadata": {
        "colab": {
          "base_uri": "https://localhost:8080/"
        },
        "id": "3a0inm56tRLR",
        "outputId": "543a468d-1d19-48ba-d165-607d681d61dd"
      },
      "execution_count": 103,
      "outputs": [
        {
          "output_type": "stream",
          "name": "stdout",
          "text": [
            "   Message ID                       Subject  \\\n",
            "0           0  christmas tree farm pictures   \n",
            "1           1      vastar resources , inc .   \n",
            "2           2  calpine daily gas nomination   \n",
            "3           3                    re : issue   \n",
            "4           4     meter 7268 nov allocation   \n",
            "\n",
            "                                             Message Spam/Ham        Date  \n",
            "0                                                NaN      ham  1999-12-10  \n",
            "1  gary , production from the high island larger ...      ham  1999-12-13  \n",
            "2             - calpine daily gas nomination 1 . doc      ham  1999-12-14  \n",
            "3  fyi - see note below - already done .\\nstella\\...      ham  1999-12-14  \n",
            "4  fyi .\\n- - - - - - - - - - - - - - - - - - - -...      ham  1999-12-14  \n"
          ]
        }
      ]
    },
    {
      "cell_type": "code",
      "source": [
        "import pandas as pd\n",
        "from sklearn.feature_extraction.text import TfidfVectorizer\n",
        "from sklearn.preprocessing import MinMaxScaler\n",
        "from scipy.sparse import hstack"
      ],
      "metadata": {
        "id": "EW0nI10CuXZe"
      },
      "execution_count": 104,
      "outputs": []
    },
    {
      "cell_type": "code",
      "source": [
        "# Kiểm tra giá trị bị thiếu\n",
        "print(data.isnull().sum())"
      ],
      "metadata": {
        "colab": {
          "base_uri": "https://localhost:8080/"
        },
        "id": "fRIxIxwWucV1",
        "outputId": "0b2937ae-5e0a-4fce-bb3d-2d83f8fae608"
      },
      "execution_count": 105,
      "outputs": [
        {
          "output_type": "stream",
          "name": "stdout",
          "text": [
            "Message ID      0\n",
            "Subject       289\n",
            "Message       371\n",
            "Spam/Ham        0\n",
            "Date            0\n",
            "dtype: int64\n"
          ]
        }
      ]
    },
    {
      "cell_type": "code",
      "source": [
        "#thay thế các dữ liệu bị thiếu trong cột message và subject\n",
        "data['Message'].fillna('No Message', inplace=True)\n",
        "data['Subject'].fillna('No Subject', inplace=True)\n",
        "\n",
        "# Xóa các cột không cần thiết\n",
        "data = data.drop(columns=['Message ID', 'Date'])\n",
        "\n",
        "# Kiểm tra lại dữ liệu sau khi xử lý\n",
        "print(data.isnull().sum())\n",
        "print(data.head())"
      ],
      "metadata": {
        "colab": {
          "base_uri": "https://localhost:8080/"
        },
        "id": "iUcwfcm4ug76",
        "outputId": "811e302f-315e-47cb-e075-0e6e103d9f21"
      },
      "execution_count": 106,
      "outputs": [
        {
          "output_type": "stream",
          "name": "stdout",
          "text": [
            "Subject     0\n",
            "Message     0\n",
            "Spam/Ham    0\n",
            "dtype: int64\n",
            "                        Subject  \\\n",
            "0  christmas tree farm pictures   \n",
            "1      vastar resources , inc .   \n",
            "2  calpine daily gas nomination   \n",
            "3                    re : issue   \n",
            "4     meter 7268 nov allocation   \n",
            "\n",
            "                                             Message Spam/Ham  \n",
            "0                                         No Message      ham  \n",
            "1  gary , production from the high island larger ...      ham  \n",
            "2             - calpine daily gas nomination 1 . doc      ham  \n",
            "3  fyi - see note below - already done .\\nstella\\...      ham  \n",
            "4  fyi .\\n- - - - - - - - - - - - - - - - - - - -...      ham  \n"
          ]
        },
        {
          "output_type": "stream",
          "name": "stderr",
          "text": [
            "<ipython-input-106-74bc9127cf8d>:2: FutureWarning: A value is trying to be set on a copy of a DataFrame or Series through chained assignment using an inplace method.\n",
            "The behavior will change in pandas 3.0. This inplace method will never work because the intermediate object on which we are setting values always behaves as a copy.\n",
            "\n",
            "For example, when doing 'df[col].method(value, inplace=True)', try using 'df.method({col: value}, inplace=True)' or df[col] = df[col].method(value) instead, to perform the operation inplace on the original object.\n",
            "\n",
            "\n",
            "  data['Message'].fillna('No Message', inplace=True)\n",
            "<ipython-input-106-74bc9127cf8d>:3: FutureWarning: A value is trying to be set on a copy of a DataFrame or Series through chained assignment using an inplace method.\n",
            "The behavior will change in pandas 3.0. This inplace method will never work because the intermediate object on which we are setting values always behaves as a copy.\n",
            "\n",
            "For example, when doing 'df[col].method(value, inplace=True)', try using 'df.method({col: value}, inplace=True)' or df[col] = df[col].method(value) instead, to perform the operation inplace on the original object.\n",
            "\n",
            "\n",
            "  data['Subject'].fillna('No Subject', inplace=True)\n"
          ]
        }
      ]
    },
    {
      "cell_type": "code",
      "source": [
        "# Kiểm tra số lượng dòng trùng lặp\n",
        "print(data.duplicated().sum())"
      ],
      "metadata": {
        "colab": {
          "base_uri": "https://localhost:8080/"
        },
        "id": "ZmCrcvzFx80U",
        "outputId": "8684bfcd-38b8-46cb-9581-463878d44b78"
      },
      "execution_count": 107,
      "outputs": [
        {
          "output_type": "stream",
          "name": "stdout",
          "text": [
            "3222\n"
          ]
        }
      ]
    },
    {
      "cell_type": "code",
      "source": [
        "# Loại bỏ các dòng trùng lặp\n",
        "data = data.drop_duplicates()"
      ],
      "metadata": {
        "id": "H3hpPMW0x_3B"
      },
      "execution_count": 108,
      "outputs": []
    },
    {
      "cell_type": "code",
      "source": [
        "print(data.isnull().sum())"
      ],
      "metadata": {
        "id": "Ro5EY_pNhsZG",
        "colab": {
          "base_uri": "https://localhost:8080/"
        },
        "outputId": "72b570e4-071e-4519-de73-1e26994a6633"
      },
      "execution_count": 109,
      "outputs": [
        {
          "output_type": "stream",
          "name": "stdout",
          "text": [
            "Subject     0\n",
            "Message     0\n",
            "Spam/Ham    0\n",
            "dtype: int64\n"
          ]
        }
      ]
    },
    {
      "cell_type": "code",
      "source": [
        "#Chuyển nhãn Spam/Ham thành giá trị số\n",
        "data['Spam/Ham'] = data['Spam/Ham'].map({'ham': 0, 'spam': 1})"
      ],
      "metadata": {
        "id": "KYtebEpcbqcs"
      },
      "execution_count": 110,
      "outputs": []
    },
    {
      "cell_type": "code",
      "source": [
        "# 2. Kết hợp cột 'Subject' và 'Message' thành một cột văn bản duy nhất\n",
        "data['Text'] = data['Subject'] + \" \" + data['Message']"
      ],
      "metadata": {
        "id": "WnkcpdrUcArY"
      },
      "execution_count": 112,
      "outputs": []
    },
    {
      "cell_type": "code",
      "source": [
        "from sklearn.utils import resample\n",
        "\n",
        "# Tách dữ liệu thành hai nhóm\n",
        "ham = data[data['Spam/Ham'] == 0]\n",
        "spam = data[data['Spam/Ham'] == 1]\n",
        "\n",
        "# Giảm số lượng mẫu của ham để cân bằng với spam\n",
        "ham_downsampled = resample(ham,\n",
        "                           replace=False,  # Không lấy lại mẫu\n",
        "                           n_samples=len(spam),  # Số lượng mẫu bằng với spam\n",
        "                           random_state=42)\n",
        "\n",
        "# Kết hợp lại thành DataFrame cân bằng\n",
        "balanced_data = pd.concat([ham_downsampled, spam])\n",
        "\n",
        "# Kiểm tra phân phối nhãn sau khi cân bằng\n",
        "print(\"Phân phối nhãn sau khi undersampling:\")\n",
        "print(balanced_data['Spam/Ham'].value_counts())"
      ],
      "metadata": {
        "colab": {
          "base_uri": "https://localhost:8080/"
        },
        "id": "rRiTc7r5gXEQ",
        "outputId": "d2c63a66-5524-41ed-abb6-36a1fda86afa"
      },
      "execution_count": 114,
      "outputs": [
        {
          "output_type": "stream",
          "name": "stdout",
          "text": [
            "Phân phối nhãn sau khi undersampling:\n",
            "Spam/Ham\n",
            "0    14584\n",
            "1    14584\n",
            "Name: count, dtype: int64\n"
          ]
        }
      ]
    },
    {
      "cell_type": "code",
      "source": [
        "# 3. Áp dụng TF-IDF để chuyển đổi văn bản thành dạng số\n",
        "tfidf_vectorizer = TfidfVectorizer()  # Khởi tạo vectorizer\n",
        "X_text = tfidf_vectorizer.fit_transform(data['Text'])  # Vector hóa dữ liệu văn bản"
      ],
      "metadata": {
        "id": "NTsLWOIKnSSG"
      },
      "execution_count": 115,
      "outputs": []
    },
    {
      "cell_type": "code",
      "source": [
        "# 4. Chuẩn hóa đặc trưng số (Độ dài tin nhắn)\n",
        "data['Message Length'] = data['Message'].apply(len)  # Tính độ dài tin nhắn\n",
        "scaler = MinMaxScaler()  # Khởi tạo Min-Max Scaler\n",
        "data['Message Length Normalized'] = scaler.fit_transform(data[['Message Length']])  # Chuẩn hóa\n",
        "\n",
        "# Tạo một scaler để chuẩn hóa giá trị\n",
        "scaler = MinMaxScaler()\n",
        "\n",
        "# Chuẩn hóa cột `Message Length` và thêm vào DataFrame\n",
        "data['Message Length Normalized'] = scaler.fit_transform(data[['Message Length']])\n",
        "\n",
        "# Kiểm tra kết quả\n",
        "print(data[['Message Length', 'Message Length Normalized']].head())"
      ],
      "metadata": {
        "colab": {
          "base_uri": "https://localhost:8080/"
        },
        "id": "ojJlHEZznRRp",
        "outputId": "1f91df80-1731-4ff1-901b-ddaec3a5b49f"
      },
      "execution_count": 116,
      "outputs": [
        {
          "output_type": "stream",
          "name": "stdout",
          "text": [
            "   Message Length  Message Length Normalized\n",
            "0              10                   0.000039\n",
            "1            4282                   0.018747\n",
            "2              38                   0.000162\n",
            "3            1171                   0.005124\n",
            "4            1124                   0.004918\n"
          ]
        }
      ]
    },
    {
      "cell_type": "code",
      "source": [
        "# 5. Kết hợp dữ liệu văn bản và đặc trưng đã chuẩn hóa\n",
        "# Chuyển 'Message Length Normalized' thành dạng ma trận để kết hợp\n",
        "X_features = data[['Message Length Normalized']].values\n",
        "X_combined = hstack([X_text, X_features])  # Kết hợp văn bản và đặc trưng số"
      ],
      "metadata": {
        "id": "MfX_5h0mnkZ2"
      },
      "execution_count": null,
      "outputs": []
    },
    {
      "cell_type": "code",
      "source": [
        "data.to_csv(\"/content/drive/MyDrive/KHDL/data/processed_enron1.csv\", index=False)\n",
        "\n",
        "print(\"Dữ liệu đã xử lý được lưu vào file 'processed_enron_spam_data.csv'.\")"
      ],
      "metadata": {
        "colab": {
          "base_uri": "https://localhost:8080/"
        },
        "id": "R0UY8UO-hSoT",
        "outputId": "4b858c54-0a04-4855-aa64-1cfcc1de834f"
      },
      "execution_count": 118,
      "outputs": [
        {
          "output_type": "stream",
          "name": "stdout",
          "text": [
            "Dữ liệu đã xử lý được lưu vào file 'processed_enron_spam_data.csv'.\n"
          ]
        }
      ]
    }
  ]
}