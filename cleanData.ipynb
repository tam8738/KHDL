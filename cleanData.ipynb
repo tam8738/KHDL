{
  "nbformat": 4,
  "nbformat_minor": 0,
  "metadata": {
    "colab": {
      "provenance": [],
      "mount_file_id": "18SBgZhlGeGij3KfoUjLbWgnl02va5qra",
      "authorship_tag": "ABX9TyNNe1NINwe5hqgUoUy3x7Iu",
      "include_colab_link": true
    },
    "kernelspec": {
      "name": "python3",
      "display_name": "Python 3"
    },
    "language_info": {
      "name": "python"
    }
  },
  "cells": [
    {
      "cell_type": "markdown",
      "metadata": {
        "id": "view-in-github",
        "colab_type": "text"
      },
      "source": [
        "<a href=\"https://colab.research.google.com/github/tam8738/KHDL/blob/main/cleanData.ipynb\" target=\"_parent\"><img src=\"https://colab.research.google.com/assets/colab-badge.svg\" alt=\"Open In Colab\"/></a>"
      ]
    },
    {
      "cell_type": "code",
      "source": [
        "import pandas as pd\n",
        "data = pd.read_csv('/content/drive/MyDrive/KHDL/data/enron_spam_data.csv')  # Thay đường dẫn tương ứng\n",
        "print(data.head())  # Hiển thị 5 dòng đầu tiên của dữ liệu"
      ],
      "metadata": {
        "colab": {
          "base_uri": "https://localhost:8080/"
        },
        "id": "3a0inm56tRLR",
        "outputId": "b92971c2-8015-497a-8262-eb5e497db844"
      },
      "execution_count": 33,
      "outputs": [
        {
          "output_type": "stream",
          "name": "stdout",
          "text": [
            "   Message ID                       Subject  \\\n",
            "0           0  christmas tree farm pictures   \n",
            "1           1      vastar resources , inc .   \n",
            "2           2  calpine daily gas nomination   \n",
            "3           3                    re : issue   \n",
            "4           4     meter 7268 nov allocation   \n",
            "\n",
            "                                             Message Spam/Ham        Date  \n",
            "0                                                NaN      ham  1999-12-10  \n",
            "1  gary , production from the high island larger ...      ham  1999-12-13  \n",
            "2             - calpine daily gas nomination 1 . doc      ham  1999-12-14  \n",
            "3  fyi - see note below - already done .\\nstella\\...      ham  1999-12-14  \n",
            "4  fyi .\\n- - - - - - - - - - - - - - - - - - - -...      ham  1999-12-14  \n"
          ]
        }
      ]
    },
    {
      "cell_type": "code",
      "source": [
        "import pandas as pd\n",
        "from sklearn.feature_extraction.text import TfidfVectorizer\n",
        "from sklearn.preprocessing import MinMaxScaler\n",
        "import re"
      ],
      "metadata": {
        "id": "EW0nI10CuXZe"
      },
      "execution_count": 34,
      "outputs": []
    },
    {
      "cell_type": "code",
      "source": [
        "# Kiểm tra giá trị bị thiếu\n",
        "print(data.isnull().sum())"
      ],
      "metadata": {
        "colab": {
          "base_uri": "https://localhost:8080/"
        },
        "id": "fRIxIxwWucV1",
        "outputId": "37e6e448-3bfa-49b7-b101-07c961cc8e66"
      },
      "execution_count": 35,
      "outputs": [
        {
          "output_type": "stream",
          "name": "stdout",
          "text": [
            "Message ID      0\n",
            "Subject       289\n",
            "Message       371\n",
            "Spam/Ham        0\n",
            "Date            0\n",
            "dtype: int64\n"
          ]
        }
      ]
    },
    {
      "cell_type": "code",
      "source": [
        "#thay thế các dữ liệu bị thiếu trong cột message và subject\n",
        "data['Message'].fillna('No Message', inplace=True)\n",
        "data['Subject'].fillna('No Subject', inplace=True)\n",
        "\n",
        "# Xóa các cột không cần thiết\n",
        "data = data.drop(columns=['Message ID', 'Date'])\n",
        "\n",
        "# Kiểm tra lại dữ liệu sau khi xử lý\n",
        "print(data.isnull().sum())\n",
        "print(data.head())"
      ],
      "metadata": {
        "colab": {
          "base_uri": "https://localhost:8080/"
        },
        "id": "iUcwfcm4ug76",
        "outputId": "37f6557b-5450-4c63-eae9-b662d58b5851"
      },
      "execution_count": 36,
      "outputs": [
        {
          "output_type": "stream",
          "name": "stdout",
          "text": [
            "Subject     0\n",
            "Message     0\n",
            "Spam/Ham    0\n",
            "dtype: int64\n",
            "                        Subject  \\\n",
            "0  christmas tree farm pictures   \n",
            "1      vastar resources , inc .   \n",
            "2  calpine daily gas nomination   \n",
            "3                    re : issue   \n",
            "4     meter 7268 nov allocation   \n",
            "\n",
            "                                             Message Spam/Ham  \n",
            "0                                         No Message      ham  \n",
            "1  gary , production from the high island larger ...      ham  \n",
            "2             - calpine daily gas nomination 1 . doc      ham  \n",
            "3  fyi - see note below - already done .\\nstella\\...      ham  \n",
            "4  fyi .\\n- - - - - - - - - - - - - - - - - - - -...      ham  \n"
          ]
        },
        {
          "output_type": "stream",
          "name": "stderr",
          "text": [
            "<ipython-input-36-74bc9127cf8d>:2: FutureWarning: A value is trying to be set on a copy of a DataFrame or Series through chained assignment using an inplace method.\n",
            "The behavior will change in pandas 3.0. This inplace method will never work because the intermediate object on which we are setting values always behaves as a copy.\n",
            "\n",
            "For example, when doing 'df[col].method(value, inplace=True)', try using 'df.method({col: value}, inplace=True)' or df[col] = df[col].method(value) instead, to perform the operation inplace on the original object.\n",
            "\n",
            "\n",
            "  data['Message'].fillna('No Message', inplace=True)\n",
            "<ipython-input-36-74bc9127cf8d>:3: FutureWarning: A value is trying to be set on a copy of a DataFrame or Series through chained assignment using an inplace method.\n",
            "The behavior will change in pandas 3.0. This inplace method will never work because the intermediate object on which we are setting values always behaves as a copy.\n",
            "\n",
            "For example, when doing 'df[col].method(value, inplace=True)', try using 'df.method({col: value}, inplace=True)' or df[col] = df[col].method(value) instead, to perform the operation inplace on the original object.\n",
            "\n",
            "\n",
            "  data['Subject'].fillna('No Subject', inplace=True)\n"
          ]
        }
      ]
    },
    {
      "cell_type": "code",
      "source": [
        "# Kiểm tra số lượng dòng trùng lặp\n",
        "print(data.duplicated().sum())"
      ],
      "metadata": {
        "colab": {
          "base_uri": "https://localhost:8080/"
        },
        "id": "ZmCrcvzFx80U",
        "outputId": "77c2e44c-e0c3-4422-92bd-73999456cc5c"
      },
      "execution_count": 37,
      "outputs": [
        {
          "output_type": "stream",
          "name": "stdout",
          "text": [
            "3222\n"
          ]
        }
      ]
    },
    {
      "cell_type": "code",
      "source": [
        "# Loại bỏ các dòng trùng lặp\n",
        "data = data.drop_duplicates()"
      ],
      "metadata": {
        "id": "H3hpPMW0x_3B"
      },
      "execution_count": 38,
      "outputs": []
    },
    {
      "cell_type": "code",
      "source": [
        "print(data.isnull().sum())"
      ],
      "metadata": {
        "id": "Ro5EY_pNhsZG",
        "colab": {
          "base_uri": "https://localhost:8080/"
        },
        "outputId": "0f437442-e433-4bd7-8f27-7ba5ca915b15"
      },
      "execution_count": 39,
      "outputs": [
        {
          "output_type": "stream",
          "name": "stdout",
          "text": [
            "Subject     0\n",
            "Message     0\n",
            "Spam/Ham    0\n",
            "dtype: int64\n"
          ]
        }
      ]
    },
    {
      "cell_type": "code",
      "source": [
        "#Chuyển nhãn Spam/Ham thành giá trị số\n",
        "data['Spam/Ham'] = data['Spam/Ham'].map({'ham': 0, 'spam': 1})"
      ],
      "metadata": {
        "id": "KYtebEpcbqcs"
      },
      "execution_count": 40,
      "outputs": []
    },
    {
      "cell_type": "code",
      "source": [
        "# 2. Kết hợp cột 'Subject' và 'Message' thành một cột văn bản duy nhất\n",
        "data['Text'] = data['Subject'] + \" \" + data['Message']"
      ],
      "metadata": {
        "id": "WnkcpdrUcArY"
      },
      "execution_count": 41,
      "outputs": []
    },
    {
      "cell_type": "code",
      "source": [
        "\n",
        "# Chuyển thành chữ thường\n",
        "data['Text'] = data['Text'].str.lower()\n",
        "\n",
        "# Loại bỏ ký tự đặc biệt\n",
        "data['Text'] = data['Text'].str.replace(r'[^a-zA-Z\\s]', '', regex=True)\n",
        "\n",
        "# Loại bỏ khoảng trắng thừa\n",
        "data['Text'] = data['Text'].str.replace(r'\\s+', ' ', regex=True).str.strip()\n",
        "\n",
        "# Kiểm tra dữ liệu sau khi làm sạch\n",
        "print(data['Text'].head())"
      ],
      "metadata": {
        "colab": {
          "base_uri": "https://localhost:8080/"
        },
        "id": "LnNcRHLV2Wyq",
        "outputId": "5aa17f3d-8ca5-4061-9482-d49b76b846a1"
      },
      "execution_count": 42,
      "outputs": [
        {
          "output_type": "stream",
          "name": "stdout",
          "text": [
            "0              christmas tree farm pictures no message\n",
            "1    vastar resources inc gary production from the ...\n",
            "2    calpine daily gas nomination calpine daily gas...\n",
            "3    re issue fyi see note below already done stell...\n",
            "4    meter nov allocation fyi forwarded by lauri a ...\n",
            "Name: Text, dtype: object\n"
          ]
        }
      ]
    },
    {
      "cell_type": "code",
      "source": [
        "print(data.head())"
      ],
      "metadata": {
        "colab": {
          "base_uri": "https://localhost:8080/"
        },
        "id": "rdfIgiAO4SRg",
        "outputId": "0d76fd52-c0c6-42ea-d324-5d7d3a3f3602"
      },
      "execution_count": 43,
      "outputs": [
        {
          "output_type": "stream",
          "name": "stdout",
          "text": [
            "                        Subject  \\\n",
            "0  christmas tree farm pictures   \n",
            "1      vastar resources , inc .   \n",
            "2  calpine daily gas nomination   \n",
            "3                    re : issue   \n",
            "4     meter 7268 nov allocation   \n",
            "\n",
            "                                             Message  Spam/Ham  \\\n",
            "0                                         No Message         0   \n",
            "1  gary , production from the high island larger ...         0   \n",
            "2             - calpine daily gas nomination 1 . doc         0   \n",
            "3  fyi - see note below - already done .\\nstella\\...         0   \n",
            "4  fyi .\\n- - - - - - - - - - - - - - - - - - - -...         0   \n",
            "\n",
            "                                                Text  \n",
            "0            christmas tree farm pictures no message  \n",
            "1  vastar resources inc gary production from the ...  \n",
            "2  calpine daily gas nomination calpine daily gas...  \n",
            "3  re issue fyi see note below already done stell...  \n",
            "4  meter nov allocation fyi forwarded by lauri a ...  \n"
          ]
        }
      ]
    },
    {
      "cell_type": "code",
      "source": [
        "print(data.isna().sum())"
      ],
      "metadata": {
        "id": "_Jc8Ohhs-p5c",
        "colab": {
          "base_uri": "https://localhost:8080/"
        },
        "outputId": "4f89bed8-e4b1-4f52-c2a1-d6a54bfeaa21"
      },
      "execution_count": 44,
      "outputs": [
        {
          "output_type": "stream",
          "name": "stdout",
          "text": [
            "Subject     0\n",
            "Message     0\n",
            "Spam/Ham    0\n",
            "Text        0\n",
            "dtype: int64\n"
          ]
        }
      ]
    },
    {
      "cell_type": "code",
      "source": [
        "print(data[data['Text'].str.strip() == ''])"
      ],
      "metadata": {
        "colab": {
          "base_uri": "https://localhost:8080/"
        },
        "id": "H-UTgFIN-sR4",
        "outputId": "31c90a96-7920-49df-ee4f-32bca18a6cdf"
      },
      "execution_count": 45,
      "outputs": [
        {
          "output_type": "stream",
          "name": "stdout",
          "text": [
            "                                                 Subject  \\\n",
            "3789   ? ? ? ? ? ? ? ? ? ? ? ? ? ? ? ? ? ? ? ? ? ? ? ...   \n",
            "5078                ? ? ? ? 13 ? ? ? ? ? ? ? * ? * ? * ?   \n",
            "33649                                                  1   \n",
            "\n",
            "                                              Message  Spam/Ham Text  \n",
            "3789              ???? ??? ????? ?????? ?????? ????\\n         1       \n",
            "5078    234567890\\n 234567890\\n 234567890\\n 234567890         1       \n",
            "33649                                             1\\n         1       \n"
          ]
        }
      ]
    },
    {
      "cell_type": "code",
      "source": [
        "data.loc[3789, 'Text'] = \"neutral\"\n",
        "data.loc[5078, 'Text'] = \"neutral\"\n",
        "data.loc[33649, 'Text'] = \"neutral\"\n",
        "print(data[data['Text'].str.strip() == ''])"
      ],
      "metadata": {
        "colab": {
          "base_uri": "https://localhost:8080/"
        },
        "id": "BKHGtSOywi3S",
        "outputId": "793a942c-eb5b-48f1-c4bf-5d776d25d975"
      },
      "execution_count": 46,
      "outputs": [
        {
          "output_type": "stream",
          "name": "stdout",
          "text": [
            "Empty DataFrame\n",
            "Columns: [Subject, Message, Spam/Ham, Text]\n",
            "Index: []\n"
          ]
        }
      ]
    },
    {
      "cell_type": "code",
      "source": [
        "print(data['Spam/Ham'].value_counts())"
      ],
      "metadata": {
        "colab": {
          "base_uri": "https://localhost:8080/"
        },
        "id": "u7qkKPkY-vlG",
        "outputId": "839f80ed-8f92-4a18-e9ae-e7ace1b7c296"
      },
      "execution_count": 47,
      "outputs": [
        {
          "output_type": "stream",
          "name": "stdout",
          "text": [
            "Spam/Ham\n",
            "0    15910\n",
            "1    14584\n",
            "Name: count, dtype: int64\n"
          ]
        }
      ]
    },
    {
      "cell_type": "code",
      "source": [
        "# Giảm số lượng mẫu của ham để cân bằng với spam\n",
        "ham_downsampled = resample(ham,\n",
        "                           replace=False,  # Không lấy lại mẫu\n",
        "                           n_samples=len(spam),  # Số lượng mẫu bằng với spam\n",
        "                           random_state=42)\n",
        "\n",
        "# Kết hợp lại thành DataFrame cân bằng\n",
        "balanced_data = pd.concat([ham_downsampled, spam])\n",
        "\n",
        "# Kiểm tra phân phối nhãn sau khi cân bằng\n",
        "print(\"Phân phối nhãn sau khi undersampling:\")\n",
        "print(balanced_data['Spam/Ham'].value_counts())"
      ],
      "metadata": {
        "colab": {
          "base_uri": "https://localhost:8080/"
        },
        "id": "esaZSQTEBr5G",
        "outputId": "9f21993a-2519-40f2-cf65-1e324aeb87bf"
      },
      "execution_count": 48,
      "outputs": [
        {
          "output_type": "stream",
          "name": "stdout",
          "text": [
            "Phân phối nhãn sau khi undersampling:\n",
            "Spam/Ham\n",
            "0    14584\n",
            "1    14584\n",
            "Name: count, dtype: int64\n"
          ]
        }
      ]
    },
    {
      "cell_type": "code",
      "source": [
        "data.to_csv(\"/content/drive/MyDrive/KHDL/data/dataFinal3.csv\", index=False)\n",
        "\n",
        "print(\"Dữ liệu đã xử lý được lưu vào file 'dataFinal3.csv'.\")"
      ],
      "metadata": {
        "colab": {
          "base_uri": "https://localhost:8080/"
        },
        "id": "kTxP5vaBBw9z",
        "outputId": "0f29c082-13af-47d9-859b-9f12b9ef620e"
      },
      "execution_count": null,
      "outputs": [
        {
          "output_type": "stream",
          "name": "stdout",
          "text": [
            "Dữ liệu đã xử lý được lưu vào file 'dataFinal3.csv'.\n"
          ]
        }
      ]
    }
  ]
}