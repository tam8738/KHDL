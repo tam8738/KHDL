{
  "nbformat": 4,
  "nbformat_minor": 0,
  "metadata": {
    "colab": {
      "provenance": [],
      "mount_file_id": "1_x5rzVGlLsRIiDT070VvqH0ZKcoXb7Mc",
      "authorship_tag": "ABX9TyPV8VzQh57NJn6RXh/LI/UJ",
      "include_colab_link": true
    },
    "kernelspec": {
      "name": "python3",
      "display_name": "Python 3"
    },
    "language_info": {
      "name": "python"
    }
  },
  "cells": [
    {
      "cell_type": "markdown",
      "metadata": {
        "id": "view-in-github",
        "colab_type": "text"
      },
      "source": [
        "<a href=\"https://colab.research.google.com/github/tam8738/KHDL/blob/main/train.ipynb\" target=\"_parent\"><img src=\"https://colab.research.google.com/assets/colab-badge.svg\" alt=\"Open In Colab\"/></a>"
      ]
    },
    {
      "cell_type": "code",
      "source": [
        "# Import các thư viện cần thiết\n",
        "import pandas as pd\n",
        "from sklearn.linear_model import LogisticRegression\n",
        "from sklearn.model_selection import train_test_split\n",
        "from sklearn.preprocessing import MinMaxScaler\n",
        "from sklearn.metrics import accuracy_score, confusion_matrix\n",
        "import pickle\n",
        "from sklearn.metrics import classification_report, accuracy_score"
      ],
      "metadata": {
        "id": "B3fas8_sP1se"
      },
      "execution_count": null,
      "outputs": []
    },
    {
      "cell_type": "code",
      "source": [
        "# Đọc dữ liệu từ file CSV\n",
        "# Giả sử file có tên là 'data.csv' và cột nhãn có tên là 'target'\n",
        "data = pd.read_csv('/content/drive/MyDrive/KHDL/data/dataFinal3.csv')"
      ],
      "metadata": {
        "id": "S3mavAsuP2Ty"
      },
      "execution_count": null,
      "outputs": []
    },
    {
      "cell_type": "code",
      "source": [
        "print(\"Kiểm tra giá trị rỗng trong dữ liệu:\")\n",
        "\n",
        "# 1. Kiểm tra giá trị rỗng (NaN)\n",
        "print(\"\\nSố lượng giá trị rỗng theo cột trước khi xử lý:\")\n",
        "print(data.isnull().sum())\n",
        "\n",
        "# 2. Kiểm tra tỷ lệ giá trị rỗng\n",
        "print(\"\\nTỷ lệ giá trị rỗng theo cột (phần trăm):\")\n",
        "print((data.isnull().sum() / len(data)) * 100)"
      ],
      "metadata": {
        "id": "GnFxcr1uP-Aa",
        "colab": {
          "base_uri": "https://localhost:8080/"
        },
        "outputId": "fb1bddb3-b4ef-45c2-b50a-afead7f9d1af"
      },
      "execution_count": null,
      "outputs": [
        {
          "output_type": "stream",
          "name": "stdout",
          "text": [
            "Kiểm tra giá trị rỗng trong dữ liệu:\n",
            "\n",
            "Số lượng giá trị rỗng theo cột trước khi xử lý:\n",
            "Subject     0\n",
            "Message     0\n",
            "Spam/Ham    0\n",
            "Text        0\n",
            "dtype: int64\n",
            "\n",
            "Tỷ lệ giá trị rỗng theo cột (phần trăm):\n",
            "Subject     0.0\n",
            "Message     0.0\n",
            "Spam/Ham    0.0\n",
            "Text        0.0\n",
            "dtype: float64\n"
          ]
        }
      ]
    },
    {
      "cell_type": "code",
      "source": [
        "X_text = data['Text']        # văn bản đầu vào\n",
        "y = data['Spam/Ham']         # nhãn: 0 là ham, 1 là spam"
      ],
      "metadata": {
        "id": "hwYWbm_2QEgO"
      },
      "execution_count": null,
      "outputs": []
    },
    {
      "cell_type": "code",
      "source": [
        "from sklearn.feature_extraction.text import TfidfVectorizer\n",
        "\n",
        "# Khởi tạo vectorizer\n",
        "vectorizer = TfidfVectorizer(max_features=1000, stop_words='english')\n",
        "\n",
        "# Fit và transform dữ liệu\n",
        "X = vectorizer.fit_transform(X_text)\n",
        "\n",
        "# Kiểm tra shape\n",
        "print(\"Kích thước ma trận TF-IDF:\", X.shape)"
      ],
      "metadata": {
        "colab": {
          "base_uri": "https://localhost:8080/"
        },
        "id": "kLh6Hgqcm_fs",
        "outputId": "8b100a1b-abce-45a5-9ff1-2194ace71c96"
      },
      "execution_count": null,
      "outputs": [
        {
          "output_type": "stream",
          "name": "stdout",
          "text": [
            "Kích thước ma trận TF-IDF: (30494, 1000)\n"
          ]
        }
      ]
    },
    {
      "cell_type": "code",
      "source": [
        "# Tách tập train/test\n",
        "X_train, X_test, y_train, y_test = train_test_split(X, y, test_size=0.2, random_state=42)\n",
        "\n",
        "# Khởi tạo mô hình\n",
        "model = LogisticRegression(max_iter=1000)\n",
        "\n",
        "# Train mô hình\n",
        "model.fit(X_train, y_train)\n",
        "\n",
        "# Dự đoán và đánh giá\n",
        "y_pred = model.predict(X_test)\n",
        "print(\"Accuracy:\", accuracy_score(y_test, y_pred))\n",
        "print(classification_report(y_test, y_pred))"
      ],
      "metadata": {
        "id": "WBB-YK7bQGe1",
        "colab": {
          "base_uri": "https://localhost:8080/"
        },
        "outputId": "a7229808-c34c-4cb8-cf1d-b1485e0d01c8"
      },
      "execution_count": null,
      "outputs": [
        {
          "output_type": "stream",
          "name": "stdout",
          "text": [
            "Accuracy: 0.9762256107558616\n",
            "              precision    recall  f1-score   support\n",
            "\n",
            "           0       0.99      0.97      0.98      3175\n",
            "           1       0.96      0.99      0.98      2924\n",
            "\n",
            "    accuracy                           0.98      6099\n",
            "   macro avg       0.98      0.98      0.98      6099\n",
            "weighted avg       0.98      0.98      0.98      6099\n",
            "\n"
          ]
        }
      ]
    },
    {
      "cell_type": "code",
      "source": [
        "import pickle\n",
        "# Lưu mô hình\n",
        "with open('/content/drive/MyDrive/KHDL/model/logistic_model.pkl', 'wb') as f:\n",
        "    pickle.dump(model, f)\n",
        "\n",
        "# Lưu vectorizer\n",
        "with open('/content/drive/MyDrive/KHDL/model/tfidf_vectorizer.pkl', 'wb') as f:\n",
        "    pickle.dump(vectorizer, f)\n",
        "\n",
        "print(\"Đã lưu mô hình và vectorizer.\")"
      ],
      "metadata": {
        "collapsed": true,
        "id": "GBRLCyxaOSEp",
        "colab": {
          "base_uri": "https://localhost:8080/"
        },
        "outputId": "205ab9b6-f76e-45b2-8ff6-56ae963b0c4f"
      },
      "execution_count": null,
      "outputs": [
        {
          "output_type": "stream",
          "name": "stdout",
          "text": [
            "Đã lưu mô hình và vectorizer.\n"
          ]
        }
      ]
    }
  ]
}